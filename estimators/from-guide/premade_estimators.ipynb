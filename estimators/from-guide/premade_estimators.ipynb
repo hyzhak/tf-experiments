{
 "cells": [
  {
   "cell_type": "code",
   "execution_count": 1,
   "metadata": {},
   "outputs": [
    {
     "name": "stdout",
     "output_type": "stream",
     "text": [
      "Python 3.6.5\r\n"
     ]
    }
   ],
   "source": [
    "!python --version"
   ]
  },
  {
   "cell_type": "code",
   "execution_count": 2,
   "metadata": {},
   "outputs": [
    {
     "data": {
      "text/plain": [
       "'1.9.0'"
      ]
     },
     "execution_count": 2,
     "metadata": {},
     "output_type": "execute_result"
    }
   ],
   "source": [
    "import tensorflow as tf\n",
    "tf.__version__"
   ]
  },
  {
   "cell_type": "markdown",
   "metadata": {},
   "source": [
    "reload imported modules each time when execute cell"
   ]
  },
  {
   "cell_type": "code",
   "execution_count": 3,
   "metadata": {},
   "outputs": [
    {
     "name": "stdout",
     "output_type": "stream",
     "text": [
      "The autoreload extension is already loaded. To reload it, use:\n",
      "  %reload_ext autoreload\n"
     ]
    }
   ],
   "source": [
    "%load_ext autoreload\n",
    "%autoreload 2"
   ]
  },
  {
   "cell_type": "code",
   "execution_count": 4,
   "metadata": {
    "scrolled": true
   },
   "outputs": [
    {
     "name": "stdout",
     "output_type": "stream",
     "text": [
      "INFO:tfdatasets.pipelines.helpers.model_loader:Download from http://archive.ics.uci.edu/ml/machine-learning-databases/iris/bezdekIris.data and extract to /var/datasets/iris-tf-data.\n",
      "INFO:tfdatasets.pipelines.iris.model_loader:Generating /var/datasets/iris-tf-data/train.tfrecords\n",
      "INFO:tfdatasets.pipelines.iris.model_loader:Generating /var/datasets/iris-tf-data/validation.tfrecords\n",
      "INFO:tfdatasets.pipelines.iris.model_loader:Generating /var/datasets/iris-tf-data/eval.tfrecords\n"
     ]
    }
   ],
   "source": [
    "import tfdatasets\n",
    "ds = tfdatasets.get_dataset('iris', data_dir='/var/datasets', show_samples=False)"
   ]
  },
  {
   "cell_type": "markdown",
   "metadata": {},
   "source": [
    "take a look on data"
   ]
  },
  {
   "cell_type": "code",
   "execution_count": 26,
   "metadata": {},
   "outputs": [
    {
     "data": {
      "text/html": [
       "<div>\n",
       "<style scoped>\n",
       "    .dataframe tbody tr th:only-of-type {\n",
       "        vertical-align: middle;\n",
       "    }\n",
       "\n",
       "    .dataframe tbody tr th {\n",
       "        vertical-align: top;\n",
       "    }\n",
       "\n",
       "    .dataframe thead th {\n",
       "        text-align: right;\n",
       "    }\n",
       "</style>\n",
       "<table border=\"1\" class=\"dataframe\">\n",
       "  <thead>\n",
       "    <tr style=\"text-align: right;\">\n",
       "      <th></th>\n",
       "      <th>SepalLength</th>\n",
       "      <th>SepalWidth</th>\n",
       "      <th>PetalLength</th>\n",
       "      <th>PetalWidth</th>\n",
       "      <th>label</th>\n",
       "    </tr>\n",
       "  </thead>\n",
       "  <tbody>\n",
       "    <tr>\n",
       "      <th>0</th>\n",
       "      <td>5.0</td>\n",
       "      <td>2.0</td>\n",
       "      <td>3.5</td>\n",
       "      <td>1.0</td>\n",
       "      <td>1</td>\n",
       "    </tr>\n",
       "    <tr>\n",
       "      <th>1</th>\n",
       "      <td>5.5</td>\n",
       "      <td>2.5</td>\n",
       "      <td>4.0</td>\n",
       "      <td>1.3</td>\n",
       "      <td>1</td>\n",
       "    </tr>\n",
       "    <tr>\n",
       "      <th>2</th>\n",
       "      <td>5.2</td>\n",
       "      <td>3.4</td>\n",
       "      <td>1.4</td>\n",
       "      <td>0.2</td>\n",
       "      <td>0</td>\n",
       "    </tr>\n",
       "    <tr>\n",
       "      <th>3</th>\n",
       "      <td>4.7</td>\n",
       "      <td>3.2</td>\n",
       "      <td>1.3</td>\n",
       "      <td>0.2</td>\n",
       "      <td>0</td>\n",
       "    </tr>\n",
       "    <tr>\n",
       "      <th>4</th>\n",
       "      <td>7.7</td>\n",
       "      <td>2.8</td>\n",
       "      <td>6.7</td>\n",
       "      <td>2.0</td>\n",
       "      <td>2</td>\n",
       "    </tr>\n",
       "    <tr>\n",
       "      <th>5</th>\n",
       "      <td>5.5</td>\n",
       "      <td>3.5</td>\n",
       "      <td>1.3</td>\n",
       "      <td>0.2</td>\n",
       "      <td>0</td>\n",
       "    </tr>\n",
       "    <tr>\n",
       "      <th>6</th>\n",
       "      <td>6.3</td>\n",
       "      <td>3.4</td>\n",
       "      <td>5.6</td>\n",
       "      <td>2.4</td>\n",
       "      <td>2</td>\n",
       "    </tr>\n",
       "    <tr>\n",
       "      <th>7</th>\n",
       "      <td>6.8</td>\n",
       "      <td>3.0</td>\n",
       "      <td>5.5</td>\n",
       "      <td>2.1</td>\n",
       "      <td>2</td>\n",
       "    </tr>\n",
       "    <tr>\n",
       "      <th>8</th>\n",
       "      <td>6.8</td>\n",
       "      <td>3.2</td>\n",
       "      <td>5.9</td>\n",
       "      <td>2.3</td>\n",
       "      <td>2</td>\n",
       "    </tr>\n",
       "    <tr>\n",
       "      <th>9</th>\n",
       "      <td>4.5</td>\n",
       "      <td>2.3</td>\n",
       "      <td>1.3</td>\n",
       "      <td>0.3</td>\n",
       "      <td>0</td>\n",
       "    </tr>\n",
       "    <tr>\n",
       "      <th>10</th>\n",
       "      <td>5.0</td>\n",
       "      <td>3.3</td>\n",
       "      <td>1.4</td>\n",
       "      <td>0.2</td>\n",
       "      <td>0</td>\n",
       "    </tr>\n",
       "    <tr>\n",
       "      <th>11</th>\n",
       "      <td>6.3</td>\n",
       "      <td>3.3</td>\n",
       "      <td>6.0</td>\n",
       "      <td>2.5</td>\n",
       "      <td>2</td>\n",
       "    </tr>\n",
       "    <tr>\n",
       "      <th>12</th>\n",
       "      <td>6.0</td>\n",
       "      <td>2.2</td>\n",
       "      <td>5.0</td>\n",
       "      <td>1.5</td>\n",
       "      <td>2</td>\n",
       "    </tr>\n",
       "    <tr>\n",
       "      <th>13</th>\n",
       "      <td>5.9</td>\n",
       "      <td>3.0</td>\n",
       "      <td>4.2</td>\n",
       "      <td>1.5</td>\n",
       "      <td>1</td>\n",
       "    </tr>\n",
       "    <tr>\n",
       "      <th>14</th>\n",
       "      <td>5.0</td>\n",
       "      <td>3.5</td>\n",
       "      <td>1.3</td>\n",
       "      <td>0.3</td>\n",
       "      <td>0</td>\n",
       "    </tr>\n",
       "    <tr>\n",
       "      <th>15</th>\n",
       "      <td>6.4</td>\n",
       "      <td>3.2</td>\n",
       "      <td>5.3</td>\n",
       "      <td>2.3</td>\n",
       "      <td>2</td>\n",
       "    </tr>\n",
       "  </tbody>\n",
       "</table>\n",
       "</div>"
      ],
      "text/plain": [
       "    SepalLength  SepalWidth  PetalLength  PetalWidth  label\n",
       "0           5.0         2.0          3.5         1.0      1\n",
       "1           5.5         2.5          4.0         1.3      1\n",
       "2           5.2         3.4          1.4         0.2      0\n",
       "3           4.7         3.2          1.3         0.2      0\n",
       "4           7.7         2.8          6.7         2.0      2\n",
       "5           5.5         3.5          1.3         0.2      0\n",
       "6           6.3         3.4          5.6         2.4      2\n",
       "7           6.8         3.0          5.5         2.1      2\n",
       "8           6.8         3.2          5.9         2.3      2\n",
       "9           4.5         2.3          1.3         0.3      0\n",
       "10          5.0         3.3          1.4         0.2      0\n",
       "11          6.3         3.3          6.0         2.5      2\n",
       "12          6.0         2.2          5.0         1.5      2\n",
       "13          5.9         3.0          4.2         1.5      1\n",
       "14          5.0         3.5          1.3         0.3      0\n",
       "15          6.4         3.2          5.3         2.3      2"
      ]
     },
     "execution_count": 26,
     "metadata": {},
     "output_type": "execute_result"
    }
   ],
   "source": [
    "ds.show_samples(subset='train', limit=16)"
   ]
  },
  {
   "cell_type": "markdown",
   "metadata": {},
   "source": [
    "# Train, Validate and Test"
   ]
  },
  {
   "cell_type": "code",
   "execution_count": 39,
   "metadata": {},
   "outputs": [
    {
     "name": "stdout",
     "output_type": "stream",
     "text": [
      "INFO:tensorflow:Using default config.\n",
      "WARNING:tensorflow:Using temporary folder as model directory: /tmp/tmpmyo5sfpz\n",
      "INFO:tensorflow:Using config: {'_model_dir': '/tmp/tmpmyo5sfpz', '_tf_random_seed': None, '_save_summary_steps': 100, '_save_checkpoints_steps': None, '_save_checkpoints_secs': 600, '_session_config': None, '_keep_checkpoint_max': 5, '_keep_checkpoint_every_n_hours': 10000, '_log_step_count_steps': 100, '_train_distribute': None, '_device_fn': None, '_service': None, '_cluster_spec': <tensorflow.python.training.server_lib.ClusterSpec object at 0x7f9ad3818b70>, '_task_type': 'worker', '_task_id': 0, '_global_id_in_cluster': 0, '_master': '', '_evaluation_master': '', '_is_chief': True, '_num_ps_replicas': 0, '_num_worker_replicas': 1}\n",
      "# train\n",
      "INFO:tensorflow:Calling model_fn.\n",
      "INFO:tensorflow:Done calling model_fn.\n",
      "INFO:tensorflow:Create CheckpointSaverHook.\n",
      "INFO:tensorflow:Graph was finalized.\n",
      "INFO:tensorflow:Running local_init_op.\n",
      "INFO:tensorflow:Done running local_init_op.\n",
      "INFO:tensorflow:Saving checkpoints for 0 into /tmp/tmpmyo5sfpz/model.ckpt.\n",
      "INFO:tensorflow:loss = 20.23639, step = 0\n",
      "INFO:tensorflow:global_step/sec: 626.737\n",
      "INFO:tensorflow:loss = 1.7553678, step = 100 (0.160 sec)\n",
      "INFO:tensorflow:global_step/sec: 826.987\n",
      "INFO:tensorflow:loss = 2.8264194, step = 200 (0.121 sec)\n",
      "INFO:tensorflow:global_step/sec: 829.422\n",
      "INFO:tensorflow:loss = 0.1995236, step = 300 (0.120 sec)\n",
      "INFO:tensorflow:global_step/sec: 844.514\n",
      "INFO:tensorflow:loss = 0.46744493, step = 400 (0.119 sec)\n",
      "INFO:tensorflow:global_step/sec: 813.412\n",
      "INFO:tensorflow:loss = 0.3508362, step = 500 (0.123 sec)\n",
      "INFO:tensorflow:global_step/sec: 820.837\n",
      "INFO:tensorflow:loss = 0.3067674, step = 600 (0.122 sec)\n",
      "INFO:tensorflow:global_step/sec: 842.756\n",
      "INFO:tensorflow:loss = 3.599218, step = 700 (0.119 sec)\n",
      "INFO:tensorflow:global_step/sec: 834.676\n",
      "INFO:tensorflow:loss = 1.5393214, step = 800 (0.120 sec)\n",
      "INFO:tensorflow:global_step/sec: 838.795\n",
      "INFO:tensorflow:loss = 1.0134294, step = 900 (0.120 sec)\n",
      "INFO:tensorflow:Saving checkpoints for 1000 into /tmp/tmpmyo5sfpz/model.ckpt.\n",
      "INFO:tensorflow:Loss for final step: 1.161627.\n",
      "# validate\n",
      "INFO:tensorflow:Calling model_fn.\n",
      "INFO:tensorflow:Done calling model_fn.\n",
      "INFO:tensorflow:Starting evaluation at 2018-11-08-10:15:58\n",
      "INFO:tensorflow:Graph was finalized.\n",
      "INFO:tensorflow:Restoring parameters from /tmp/tmpmyo5sfpz/model.ckpt-1000\n",
      "INFO:tensorflow:Running local_init_op.\n",
      "INFO:tensorflow:Done running local_init_op.\n",
      "INFO:tensorflow:Finished evaluation at 2018-11-08-10:15:58\n",
      "INFO:tensorflow:Saving dict for global step 1000: accuracy = 1.0, average_loss = 0.123600945, global_step = 1000, loss = 0.9270071\n",
      "INFO:tensorflow:Saving 'checkpoint_path' summary for global step 1000: /tmp/tmpmyo5sfpz/model.ckpt-1000\n",
      "INFO:tensorflow:Calling model_fn.\n",
      "INFO:tensorflow:Done calling model_fn.\n",
      "INFO:tensorflow:Starting evaluation at 2018-11-08-10:15:58\n",
      "INFO:tensorflow:Graph was finalized.\n",
      "INFO:tensorflow:Restoring parameters from /tmp/tmpmyo5sfpz/model.ckpt-1000\n",
      "INFO:tensorflow:Running local_init_op.\n",
      "INFO:tensorflow:Done running local_init_op.\n",
      "INFO:tensorflow:Finished evaluation at 2018-11-08-10:15:58\n",
      "INFO:tensorflow:Saving dict for global step 1000: accuracy = 1.0, average_loss = 0.12360095, global_step = 1000, loss = 1.8540143\n",
      "INFO:tensorflow:Saving 'checkpoint_path' summary for global step 1000: /tmp/tmpmyo5sfpz/model.ckpt-1000\n",
      "# test\n",
      "INFO:tensorflow:Calling model_fn.\n",
      "INFO:tensorflow:Done calling model_fn.\n",
      "INFO:tensorflow:Starting evaluation at 2018-11-08-10:15:59\n",
      "INFO:tensorflow:Graph was finalized.\n",
      "INFO:tensorflow:Restoring parameters from /tmp/tmpmyo5sfpz/model.ckpt-1000\n",
      "INFO:tensorflow:Running local_init_op.\n",
      "INFO:tensorflow:Done running local_init_op.\n",
      "INFO:tensorflow:Finished evaluation at 2018-11-08-10:15:59\n",
      "INFO:tensorflow:Saving dict for global step 1000: accuracy = 1.0, average_loss = 0.016924525, global_step = 1000, loss = 0.25386786\n",
      "INFO:tensorflow:Saving 'checkpoint_path' summary for global step 1000: /tmp/tmpmyo5sfpz/model.ckpt-1000\n"
     ]
    },
    {
     "data": {
      "text/plain": [
       "{'accuracy': 1.0,\n",
       " 'average_loss': 0.016924525,\n",
       " 'loss': 0.25386786,\n",
       " 'global_step': 1000}"
      ]
     },
     "execution_count": 39,
     "metadata": {},
     "output_type": "execute_result"
    }
   ],
   "source": [
    "classifier = tf.estimator.DNNClassifier(\n",
    "    feature_columns=ds.get_all_feature_columns(),\n",
    "    # Two hidden layers of 10 nodes each.\n",
    "    hidden_units=[10, 10],\n",
    "    # The model must choose between 3 classes.\n",
    "    n_classes=ds.num_of_classes())\n",
    "\n",
    "print('# train')\n",
    "classifier.train(input_fn=ds.train(), steps=1000)\n",
    "\n",
    "print('# validate')\n",
    "classifier.evaluate(input_fn=ds.validation(batch=10))\n",
    "\n",
    "print('# test')\n",
    "classifier.evaluate(input_fn=ds.eval())"
   ]
  },
  {
   "cell_type": "code",
   "execution_count": 36,
   "metadata": {},
   "outputs": [
    {
     "name": "stdout",
     "output_type": "stream",
     "text": [
      "# validate\n",
      "INFO:tensorflow:Calling model_fn.\n",
      "INFO:tensorflow:Done calling model_fn.\n",
      "INFO:tensorflow:Starting evaluation at 2018-11-08-10:12:53\n",
      "INFO:tensorflow:Graph was finalized.\n",
      "INFO:tensorflow:Restoring parameters from /tmp/tmpv7x7xvvl/model.ckpt-1000\n",
      "INFO:tensorflow:Running local_init_op.\n",
      "INFO:tensorflow:Done running local_init_op.\n",
      "INFO:tensorflow:Finished evaluation at 2018-11-08-10:12:54\n",
      "INFO:tensorflow:Saving dict for global step 1000: accuracy = 1.0, average_loss = 0.08171577, global_step = 1000, loss = 0.61286825\n",
      "INFO:tensorflow:Saving 'checkpoint_path' summary for global step 1000: /tmp/tmpv7x7xvvl/model.ckpt-1000\n",
      "{'accuracy': 1.0, 'average_loss': 0.08171577, 'loss': 0.61286825, 'global_step': 1000}\n",
      "# test\n",
      "INFO:tensorflow:Calling model_fn.\n",
      "INFO:tensorflow:Done calling model_fn.\n",
      "INFO:tensorflow:Starting evaluation at 2018-11-08-10:12:54\n",
      "INFO:tensorflow:Graph was finalized.\n",
      "INFO:tensorflow:Restoring parameters from /tmp/tmpv7x7xvvl/model.ckpt-1000\n",
      "INFO:tensorflow:Running local_init_op.\n",
      "INFO:tensorflow:Done running local_init_op.\n",
      "INFO:tensorflow:Finished evaluation at 2018-11-08-10:12:54\n",
      "INFO:tensorflow:Saving dict for global step 1000: accuracy = 1.0, average_loss = 0.017780501, global_step = 1000, loss = 0.13335375\n",
      "INFO:tensorflow:Saving 'checkpoint_path' summary for global step 1000: /tmp/tmpv7x7xvvl/model.ckpt-1000\n",
      "{'accuracy': 1.0, 'average_loss': 0.017780501, 'loss': 0.13335375, 'global_step': 1000}\n"
     ]
    }
   ],
   "source": [
    "print('# validate')\n",
    "validate_result = classifier.evaluate(input_fn=ds.validation(batch=10))\n",
    "print(validate_result)\n",
    "\n",
    "print('# test')\n",
    "evaluate_result = classifier.evaluate(input_fn=ds.eval(batch=10))\n",
    "print(evaluate_result)"
   ]
  },
  {
   "cell_type": "code",
   "execution_count": null,
   "metadata": {},
   "outputs": [],
   "source": []
  }
 ],
 "metadata": {
  "kernelspec": {
   "display_name": "Python 3",
   "language": "python",
   "name": "python3"
  },
  "language_info": {
   "codemirror_mode": {
    "name": "ipython",
    "version": 3
   },
   "file_extension": ".py",
   "mimetype": "text/x-python",
   "name": "python",
   "nbconvert_exporter": "python",
   "pygments_lexer": "ipython3",
   "version": "3.6.5"
  }
 },
 "nbformat": 4,
 "nbformat_minor": 2
}
